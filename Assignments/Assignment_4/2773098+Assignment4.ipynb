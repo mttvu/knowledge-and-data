{
 "cells": [
  {
   "cell_type": "markdown",
   "metadata": {},
   "source": [
    "# Knowledge and Data: Practical Assignment 4 \n",
    "## Modelling in OWL "
   ]
  },
  {
   "cell_type": "markdown",
   "metadata": {},
   "source": [
    "- YOUR NAME: My Vu \n",
    "\n",
    "- YOUR VUNetID: mvu204\n",
    "\n",
    "*(If you do not provide your NAME and VUNetID we will not accept your submission.)*"
   ]
  },
  {
   "cell_type": "markdown",
   "metadata": {},
   "source": [
    "For this assignment you will be engineering and reasoning over your very own OWL ontology.\n",
    "\n",
    "You are free to choose the domain (subject) of the ontology you are going to build (e.g. on nutritional value, recipes, supermarkets, food safety, health, restaurants, planes, trains and automobiles, developing countries, modern slavery, political parties, refugees, you name it...). Just be creative and choose a domain we have not seen in class yet. \n",
    "\n",
    "We expect extensive answers for this assignment: give a full account of what you did, such that a peer would be able to reproduce your ontology. This means that you must explicitly state the new axioms (in some Human readable syntax, such as Manchester Syntax, so no ttl) and that we expect you to motivate your choices (usually 1-3 lines).\n",
    "\n",
    "**IMPORTANT: You will have to hand in your ontology (as ttl) together with the notebook**"
   ]
  },
  {
   "cell_type": "markdown",
   "metadata": {},
   "source": [
    "### Learning objectives"
   ]
  },
  {
   "cell_type": "markdown",
   "metadata": {},
   "source": [
    "At the end of this exercise you should be able to build and ontology and to reason over it: \n",
    "1. You will be able to engineer an OWL ontology\n",
    "2. You will be able to conceptualize a (small) domain\n",
    "3. You will be able use conditions and property characteristics\n",
    "4. You will be able to use a reasoner to infer implicit knowledge\n",
    "5. You will be able to work in Protégé"
   ]
  },
  {
   "cell_type": "markdown",
   "metadata": {},
   "source": [
    "### Preliminaries\n",
    "\n",
    "There are several tools which can be used to create and edit RDF and OWL files (in addition to your favourite text-based editor). For this assignment we urge you to use the open-source tool [Protégé](https://protege.stanford.edu), which is a stand-alone editor that is very much tailored towards OWL ontology editing.\n",
    "\n",
    "To install Protégé on your system, please take a look at the [installation instructions](https://protegeproject.github.io/protege/installation/).\n",
    " \n",
    "Protégé is a complex tool with many options, only few of which we will need for this assignment. There are various resources available to get you started:\n",
    "\n",
    "- Watch a short [Protégé Screencast Tutorial](https://vimeo.com/183829740) (created by Rinke Hoekstra)\n",
    "- Check out the [Practical Guide To Building OWL Ontologies Using Protégé 5](https://www.researchgate.net/publication/351037551_A_Practical_Guide_to_Building_OWL_Ontologies_Using_Protege_55_and_Plugins) that uses the [Pizza ontology](https://protege.stanford.edu/ontologies/pizza/pizza.owl) to describe how to create ontologies using Protégé.\n",
    "- Check the [Assignment 4 document](https://docs.google.com/document/d/1Dw2winjfr2TJq3r1q6ZRpud9Qn--tq4ioWDqiBdrrzI) containing Tips & Recommendations on how to create ontologies."
   ]
  },
  {
   "cell_type": "markdown",
   "metadata": {},
   "source": [
    "### Task 1 (1 Point) : Creating an empty ontology\n",
    "\n",
    "Create a new empty ontology in Protégé.\n",
    "\n",
    "Be sure to:\n",
    "- Choose your own unique ontology IRI, its namespace, and a prefix\n",
    "- Add metadata in the form of *rdfs:label*, *rdfs:comment*, and *rdfs:isDefinedBy* annotations.  \n",
    "  Use *rdfs:comment* to describe the domain and target audience of your ontology.\n",
    "\n",
    "Write down the IRI, its prefix, and the metadata that you have added in the textfield below:"
   ]
  },
  {
   "cell_type": "markdown",
   "metadata": {},
   "source": [
    "IRI: http://www.example.com/books  \n",
    "Namespace: http://www.example.com  \n",
    "Prefix: books\n",
    "\n",
    "Metadata:\n",
    "- rdfs:label \"Books\"\n",
    "- rdfs:comment \"Description: an ontology about books. Target audience: readers\"\n",
    "- rdfs:isDefinedBy"
   ]
  },
  {
   "cell_type": "markdown",
   "metadata": {},
   "source": [
    "### Task 2a (1 Point) : Populating your ontology\n",
    "\n",
    "Populate your ontology such that it contains\n",
    "- six classes\n",
    "- three data properties\n",
    "- four object properties\n",
    "\n",
    "For **each** class, create **two** example instances:\n",
    "- assert one instance as a member of this class (i.e. using *rdf:type*).\n",
    "- leave the second instance without any type.\n",
    "\n",
    "Your ontology should now have 12 instances: six instances with a certain *rdf:type*, and six instances without any *rdf:type*.\n",
    "\n",
    "List and describe the 6 classes you created in the textfield below, together with their instances. Don't forget to motivate your choices."
   ]
  },
  {
   "cell_type": "markdown",
   "metadata": {},
   "source": [
    "Class Name: Book  \n",
    "Description: Written work  \n",
    "Instances:  \n",
    "- BeforeTheCoffeeGetsCold\n",
    "- Circe\n",
    "\n",
    "Class Name: Author  \n",
    "Description: An author is a person that has written a book  \n",
    "Instances:  \n",
    "- ToshikazuKawaguchi\n",
    "- MadelineMiller\n",
    "\n",
    "Class Name: Genre  \n",
    "Description: A style/category of a book  \n",
    "Instances:  \n",
    "- MagicalRealism\n",
    "- Mythology\n",
    "\n",
    "Class Name: Publisher  \n",
    "Description: A company that prepares the books for sale  \n",
    "Instances:  \n",
    "- Picador\n",
    "- LittleBrownAndCompany\n",
    "\n",
    "Class Name: Person  \n",
    "Description: A human being  \n",
    "Instances:  \n",
    "- Bob\n",
    "- Alice\n",
    "\n",
    "Class Name: Location  \n",
    "Description: A place  \n",
    "Instances:  \n",
    "- Japan\n",
    "- TheUnitedStates"
   ]
  },
  {
   "cell_type": "markdown",
   "metadata": {},
   "source": [
    "### Task 2b (1 Point) : Asserting properties\n",
    " \n",
    "For *each* instance:\n",
    "- assert at least one data property (e.g. ex:instanceA *ex:hasFullName* \"Some Full Name\"). \n",
    "- assert at least one object property, relating instances to each other (e.g.  ex:instanceA *ex:attendsCourse* ex:instanceB) \n",
    "\n",
    "List and describe 3 statements from your ontology, containing 3 different data property assertions:"
   ]
  },
  {
   "cell_type": "markdown",
   "metadata": {},
   "source": [
    "- books:Alice books:hasName \"Alice\"<br/>\n",
    "Description: States the name of the instance\n",
    "\n",
    "- books:Circe books:hasNumberOfPages 393<br/>\n",
    "States the number of pages of the instance\n",
    "\n",
    "- books:Bob   books:hasDateOfBirth \"2001-10-26T21:32:52\"^^xsd:dateTime<br/>\n",
    "States the date of birth of the instance"
   ]
  },
  {
   "cell_type": "markdown",
   "metadata": {},
   "source": [
    "List and describe 4 statements from your ontology, containing 4 different object property assertions:"
   ]
  },
  {
   "cell_type": "markdown",
   "metadata": {},
   "source": [
    "books:Alice books:hasRead books:BeforeTheCoffeeGetsCold<br/>\n",
    "Description: Alice has read \"Before the Coffee Gets Cold\"<br/>\n",
    "\n",
    "books:BeforeTheCoffeeGetsCold books:hasAuthor books:ToshikazuKawaguchi<br/>\n",
    "Description: \"Before The Coffee Gets Cold\" has the author Toshikazu Kawaguchi<br/>\n",
    "\n",
    "books:Bob books:hasRead books:Circe<br/>\n",
    "Description: Bob has read Circe<br/>\n",
    "\n",
    "books:Picador books:hasPublished books:BeforeTheCoffeeGetsCold<br/>\n",
    "Description: Picador has published \"Before the Coffee Gets Cold\"<br/>"
   ]
  },
  {
   "cell_type": "markdown",
   "metadata": {},
   "source": [
    "---\n",
    "### The reasoner\n",
    "\n",
    "The questions following this point make use of Protégé reasoning capabilities, which are available via plugins but which are disabled by default. Install (if necessary) and start the *Pellet* reasoner before you continue with the next question.\n",
    "\n",
    "Refer to page 15 of the [Protégé guide](https://www.researchgate.net/publication/351037551_A_Practical_Guide_to_Building_OWL_Ontologies_Using_Protege_55_and_Plugins) for instructions on how to install and run the reasoner. \n",
    "\n",
    "---"
   ]
  },
  {
   "cell_type": "markdown",
   "metadata": {},
   "source": [
    "### Task 3 (0 Points): Reasoning on a basic ontology\n",
    "\n",
    "All assertions that were addded up til now were explicit. Yet, it is certainly possible that your ontology also contains one or more *implicit* assertions, that have emerged from the interactions between the added explicit assertions. \n",
    "\n",
    "Run the reasoner on your yet-basic ontology and write down the inferences occurred (if any) below:"
   ]
  },
  {
   "cell_type": "markdown",
   "metadata": {},
   "source": [
    "no inferences"
   ]
  },
  {
   "cell_type": "markdown",
   "metadata": {},
   "source": [
    "### Task 4a (1 Point): Necessary and sufficient conditions \n",
    "\n",
    "Select two classes from your ontology.  \n",
    "For **both** classes:\n",
    "- add at least one necessary and one necessary and sufficient condition\n",
    "  (e.g. engineers are people who hold an engineering degree, and any person holding an engineering degree is an engineer)\n",
    "- infer class membership of *at least* one instance using each condition \n",
    "  \n",
    "List and describe the four conditions that you have added (i.e. axioms) in the textfield below. Do not forget to motivate your choices."
   ]
  },
  {
   "cell_type": "markdown",
   "metadata": {},
   "source": [
    "Class: books:Author <br/>\n",
    "1. **Necessary: books:isLocatedIn some books:Location**\n",
    "- Author is the subset of all Things that are located in some Location \n",
    "2. **Necessary and sufficient: books:hasWritten some books:Book**\n",
    "- Every Author has written some Book\n",
    "\n",
    "Class: books:Book <br/>\n",
    "3. **Necessary: books:hasGenre some books:Genre**\n",
    "- Book is the subset of all Things that have some Genre\n",
    "4. **Necessary and sufficient: books:hasAuthor some books:Author**\n",
    "- Every Book has some Author"
   ]
  },
  {
   "cell_type": "markdown",
   "metadata": {},
   "source": [
    "### Task 4b (1 Point): Reasoning over conditions\n",
    "\n",
    "Run the reasoner once again (after having added the four conditions).\n",
    "\n",
    "Write down the different steps of the reasoning process (ie, what happens when you run the reasoner). Also write down and explain the resulting inferences below."
   ]
  },
  {
   "cell_type": "markdown",
   "metadata": {},
   "source": [
    "\n",
    "BeforeTheCoffeeGetsCold hasAuthor ToshikazuKawaguchi <br/>\n",
    "ToshikazuKawaguchi a Author <br/>\n",
    "Book EquivalentTo hasAuthor some Author <br/>\n",
    "**inferenced: BeforeTheCoffeeGetsCold a Book**\n",
    "<br/>\n",
    "<br/>\n",
    "\n",
    "MadelineMiller hasWritten Circe<br/>\n",
    "Circe a Book<br/>\n",
    "Author EquivalentTo hasWritten some Book<br/>\n",
    "**inferenced: MadelineMiller a Author**\n",
    "\n"
   ]
  },
  {
   "cell_type": "markdown",
   "metadata": {},
   "source": [
    "### Task 5a (1 Point): Property characteristics\n",
    "\n",
    "Add **four** different property characteristics.\n",
    "\n",
    "Examples are\n",
    "- transitivity\n",
    "- symmetricity\n",
    "- functionality\n",
    "- (ir)reflexivity\n",
    "- property chain\n",
    "- disjoint properties\n",
    "- etc\n",
    "\n",
    "All four different characteristics can be asserted on one property (or on four different properties).\n",
    "\n",
    "List and describe the four property characteristics you defined (i.e. axioms) in the textfield below. Do not forget to motivate your choices."
   ]
  },
  {
   "cell_type": "markdown",
   "metadata": {},
   "source": [
    "1. **books:hasAuthor owl:disjointProperty books:hasWritten** \n",
    "- if bookX hasAuthor authorY, then bookX cannot hasWritten authorY\n",
    "2. **books:hasAuthor rdf:type owl:IrreflexiveProperty**\n",
    "-  an author cannot be their own author (authorX cannot hasAuthor authorX)\n",
    "3. **books:hasAuthor rdf:type owl:AsymmetricProperty**\n",
    "- if bookX hasAuthor authorY, authorY cannot hasAuthor bookX\n",
    "4. **books:worksWith owl:properyAxiomChain (books:hasPublished books:hasAuthor)**\n",
    "- if publisherZ hasPublished bookX and bookX hasAuthor authoyY, then publisherZ worksWith authorY"
   ]
  },
  {
   "cell_type": "markdown",
   "metadata": {},
   "source": [
    "### Task 5b (1 Point): Reasoning over properties\n",
    "\n",
    "Run the reasoner once again (after having added the four properties).\n",
    "\n",
    "Write down the steps of the reasoning process (ie, what happens when you run the reasoner). Also write down and explain the resulting inferences below."
   ]
  },
  {
   "cell_type": "markdown",
   "metadata": {},
   "source": [
    "books:Picador books:hasPublished books:BeforeTheCoffeeGetsCold <br/>\n",
    "books:BeforeTheCoffeeGetsCold books:hasAuthor books:ToshikazuKawaguchi<br/>\n",
    "books:worksWith owl:properyAxiomChain (books:hasPublished books:hasAuthor)<br/>\n",
    "**inferenced: Picador worksWith ToshikazuKawaguchi**"
   ]
  },
  {
   "cell_type": "markdown",
   "metadata": {},
   "source": [
    "### Task 6 (1-2 Point): Saving your ontology\n",
    "\n",
    "Go over your ontology to ensure that it is consistent and that it meets all requirements as asked through the various questions. If both criteria are met you will obtain an additional point (making a total of 2 points for this question). Note that there are several [online validators](http://mowl-power.cs.man.ac.uk:8080/validator/) that can help you check your ontology for consistency.\n",
    "\n",
    "Next, export/save your ontology to a file using Turtle as serialization format. Use *save as* to ensure that later modifications won't end up in this file. \n",
    "\n",
    "**Submit this file together with your notebook**"
   ]
  },
  {
   "cell_type": "markdown",
   "metadata": {},
   "source": [
    "### Task 7 (1 Point): An inconsist ontology\n",
    "\n",
    "Add one or more axioms to your ontology in such a way that it becomes inconsistent. Note that the added axioms themselves *must* be consistent; adding a single inconsistent axiom is not allowed.\n",
    "\n",
    "**IMPORTANT: do not submit this version**\n",
    "\n",
    "List and describe the axioms that you added. Motivate your choices and explain why the ontology became inconsistent."
   ]
  },
  {
   "cell_type": "markdown",
   "metadata": {},
   "source": [
    "books:MadelineMiller books:hasAuthor books:MadelineMiller <br/>\n",
    "\n",
    "ontology became inconsistent because of the rule books:hasAuthor rdf:type owl:IrreflexiveProperty\n",
    "\n"
   ]
  },
  {
   "cell_type": "markdown",
   "metadata": {},
   "source": [
    "---\n",
    "\n",
    "## Submitting your answers\n",
    "\n",
    "To submit your answers for this assignment, create a zip-file containing both this notebook and your *consistent* ontology (saved during task 6). Name this zip-file **assignment_4_VUnetID.zip** (where VUnetID is of course to be replaced by your personal VUnetID, eg **rss220**), and submit it via Canvas."
   ]
  }
 ],
 "metadata": {
  "kernelspec": {
   "display_name": "Python 3.9.13 64-bit",
   "language": "python",
   "name": "python3"
  },
  "language_info": {
   "codemirror_mode": {
    "name": "ipython",
    "version": 3
   },
   "file_extension": ".py",
   "mimetype": "text/x-python",
   "name": "python",
   "nbconvert_exporter": "python",
   "pygments_lexer": "ipython3",
   "version": "3.9.13"
  },
  "vscode": {
   "interpreter": {
    "hash": "e1acbfc1e12429fc37b9c87ec968acf93f165ff599c4c647823b36e2c2d058ef"
   }
  }
 },
 "nbformat": 4,
 "nbformat_minor": 4
}
